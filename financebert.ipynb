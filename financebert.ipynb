{
 "cells": [
  {
   "cell_type": "code",
   "execution_count": 1,
   "id": "1f9d8a9e-bffd-46da-ab1f-64f6e4bce5d8",
   "metadata": {},
   "outputs": [
    {
     "name": "stdout",
     "output_type": "stream",
     "text": [
      "cuda\n"
     ]
    }
   ],
   "source": [
    "import pandas as pd\n",
    "from collections import defaultdict\n",
    "import matplotlib.pyplot as plt\n",
    "import seaborn as sns\n",
    "import torch\n",
    "import torch.nn as nn\n",
    "from transformers import BertTokenizer, BertModel,get_linear_schedule_with_warmup\n",
    "from torch.utils.data import DataLoader,Dataset\n",
    "import numpy as np\n",
    "import warnings\n",
    "warnings.filterwarnings(\"ignore\")\n",
    "\n",
    "device = \"cuda\" if torch.cuda.is_available() else \"cpu\"\n",
    "print(device)\n"
   ]
  },
  {
   "cell_type": "code",
   "execution_count": 2,
   "id": "7fbb8437-74f2-49a9-b12e-a20635702f9a",
   "metadata": {},
   "outputs": [
    {
     "data": {
      "text/html": [
       "<div>\n",
       "<style scoped>\n",
       "    .dataframe tbody tr th:only-of-type {\n",
       "        vertical-align: middle;\n",
       "    }\n",
       "\n",
       "    .dataframe tbody tr th {\n",
       "        vertical-align: top;\n",
       "    }\n",
       "\n",
       "    .dataframe thead th {\n",
       "        text-align: right;\n",
       "    }\n",
       "</style>\n",
       "<table border=\"1\" class=\"dataframe\">\n",
       "  <thead>\n",
       "    <tr style=\"text-align: right;\">\n",
       "      <th></th>\n",
       "      <th>Sentence</th>\n",
       "      <th>Sentiment</th>\n",
       "    </tr>\n",
       "  </thead>\n",
       "  <tbody>\n",
       "    <tr>\n",
       "      <th>0</th>\n",
       "      <td>The GeoSolutions technology will leverage Bene...</td>\n",
       "      <td>positive</td>\n",
       "    </tr>\n",
       "    <tr>\n",
       "      <th>1</th>\n",
       "      <td>$ESI on lows, down $1.50 to $2.50 BK a real po...</td>\n",
       "      <td>negative</td>\n",
       "    </tr>\n",
       "    <tr>\n",
       "      <th>2</th>\n",
       "      <td>For the last quarter of 2010 , Componenta 's n...</td>\n",
       "      <td>positive</td>\n",
       "    </tr>\n",
       "    <tr>\n",
       "      <th>3</th>\n",
       "      <td>According to the Finnish-Russian Chamber of Co...</td>\n",
       "      <td>neutral</td>\n",
       "    </tr>\n",
       "    <tr>\n",
       "      <th>4</th>\n",
       "      <td>The Swedish buyout firm has sold its remaining...</td>\n",
       "      <td>neutral</td>\n",
       "    </tr>\n",
       "    <tr>\n",
       "      <th>5</th>\n",
       "      <td>$SPY wouldn't be surprised to see a green close</td>\n",
       "      <td>positive</td>\n",
       "    </tr>\n",
       "    <tr>\n",
       "      <th>6</th>\n",
       "      <td>Shell's $70 Billion BG Deal Meets Shareholder ...</td>\n",
       "      <td>negative</td>\n",
       "    </tr>\n",
       "    <tr>\n",
       "      <th>7</th>\n",
       "      <td>SSH COMMUNICATIONS SECURITY CORP STOCK EXCHANG...</td>\n",
       "      <td>negative</td>\n",
       "    </tr>\n",
       "    <tr>\n",
       "      <th>8</th>\n",
       "      <td>Kone 's net sales rose by some 14 % year-on-ye...</td>\n",
       "      <td>positive</td>\n",
       "    </tr>\n",
       "    <tr>\n",
       "      <th>9</th>\n",
       "      <td>The Stockmann department store will have a tot...</td>\n",
       "      <td>neutral</td>\n",
       "    </tr>\n",
       "  </tbody>\n",
       "</table>\n",
       "</div>"
      ],
      "text/plain": [
       "                                            Sentence Sentiment\n",
       "0  The GeoSolutions technology will leverage Bene...  positive\n",
       "1  $ESI on lows, down $1.50 to $2.50 BK a real po...  negative\n",
       "2  For the last quarter of 2010 , Componenta 's n...  positive\n",
       "3  According to the Finnish-Russian Chamber of Co...   neutral\n",
       "4  The Swedish buyout firm has sold its remaining...   neutral\n",
       "5    $SPY wouldn't be surprised to see a green close  positive\n",
       "6  Shell's $70 Billion BG Deal Meets Shareholder ...  negative\n",
       "7  SSH COMMUNICATIONS SECURITY CORP STOCK EXCHANG...  negative\n",
       "8  Kone 's net sales rose by some 14 % year-on-ye...  positive\n",
       "9  The Stockmann department store will have a tot...   neutral"
      ]
     },
     "execution_count": 2,
     "metadata": {},
     "output_type": "execute_result"
    }
   ],
   "source": [
    "df = pd.read_csv(\"C:/ml/data.csv\",delimiter=',')\n",
    "df.head(10)"
   ]
  },
  {
   "cell_type": "code",
   "execution_count": 3,
   "id": "17447f93-1453-4fd4-9853-f1f53e8c6cdc",
   "metadata": {},
   "outputs": [
    {
     "name": "stdout",
     "output_type": "stream",
     "text": [
      "Sentence     0\n",
      "Sentiment    0\n",
      "dtype: int64\n",
      "6\n"
     ]
    }
   ],
   "source": [
    "print(df.isnull().sum())\n",
    "print(df.duplicated().sum())"
   ]
  },
  {
   "cell_type": "code",
   "execution_count": 4,
   "id": "c98dbce9-4271-4f88-bc2e-f8932161d582",
   "metadata": {},
   "outputs": [
    {
     "data": {
      "image/png": "[encoded data removed]",
      "text/plain": [
       "<Figure size 1000x600 with 1 Axes>"
      ]
     },
     "metadata": {},
     "output_type": "display_data"
    }
   ],
   "source": [
    "df.drop_duplicates(inplace=True)\n",
    "\n",
    "plt.figure(figsize=(10,6))\n",
    "df['Sentiment'].value_counts().plot(kind='bar',rot=0)\n",
    "plt.show()\n",
    "\n",
    "\n"
   ]
  },
  {
   "cell_type": "code",
   "execution_count": 5,
   "id": "5e64aca1-e205-48a9-a2f1-3fa34d5a333a",
   "metadata": {},
   "outputs": [
    {
     "data": {
      "text/plain": [
       "('[CLS]', 101)"
      ]
     },
     "execution_count": 5,
     "metadata": {},
     "output_type": "execute_result"
    }
   ],
   "source": [
    "### changing the labels into numerical values and importing bert tokenizer\n",
    "\n",
    "\n",
    "df['Sentiment'] = df['Sentiment'].map({\"negative\":0,\"neutral\":1,\"positive\":2})\n",
    "\n",
    "\n",
    "MODEL_NAME = 'bert-base-cased'\n",
    "\n",
    "\n",
    "tokenizer = BertTokenizer.from_pretrained(MODEL_NAME)\n",
    "\n",
    "tokenizer.encode(\"I love apples Ice cream and all sorts of fun stuff\")\n",
    "tokenizer.sep_token,tokenizer.sep_token_ids\n",
    "tokenizer.cls_token,tokenizer.cls_token_ids\n",
    "\n",
    "\n"
   ]
  },
  {
   "cell_type": "code",
   "execution_count": 6,
   "id": "3991478f-db6a-459c-bd86-d73fa045b18f",
   "metadata": {},
   "outputs": [
    {
     "name": "stderr",
     "output_type": "stream",
     "text": [
      "Truncation was not explicitly activated but `max_length` is provided a specific value, please use `truncation=True` to explicitly truncate examples to max length. Defaulting to 'longest_first' truncation strategy. If you encode pairs of sequences (GLUE-style) with the tokenizer you can select this strategy more precisely by providing a specific strategy to `truncation`.\n"
     ]
    },
    {
     "data": {
      "image/png": "[encoded data removed]",
      "text/plain": [
       "<Figure size 1000x600 with 1 Axes>"
      ]
     },
     "metadata": {},
     "output_type": "display_data"
    }
   ],
   "source": [
    "\n",
    "sample_tokens = []\n",
    "for txt in df['Sentence']:\n",
    "    tokens = tokenizer.encode(txt, max_length=512)\n",
    "    sample_tokens.append(len(tokens))\n",
    "\n",
    "\n",
    "\n",
    "plt.figure(figsize=(10,6))\n",
    "sns.histplot(sample_tokens)\n",
    "plt.show()\n"
   ]
  },
  {
   "cell_type": "code",
   "execution_count": 7,
   "id": "da802c9c-6524-4c08-8cd9-e1ae20a3719e",
   "metadata": {},
   "outputs": [
    {
     "name": "stdout",
     "output_type": "stream",
     "text": [
      "dict_keys(['Sentence', 'input_ids', 'attention_mask', 'targets'])\n"
     ]
    }
   ],
   "source": [
    "\n",
    "MAX_LEN = 140\n",
    "\n",
    "\n",
    "class Finance_Dataset(Dataset):\n",
    "    def __init__(self,Sentence,targets,max_len,tokenizer):\n",
    "        self.Sentence = Sentence\n",
    "        self.targets = targets\n",
    "        self.max_len = max_len\n",
    "        self.tokenizer = tokenizer\n",
    "        \n",
    "    def __len__(self):\n",
    "        return len(self.Sentence)\n",
    "    \n",
    "    \n",
    "    def __getitem__(self,idx):\n",
    "        Sentence = str(self.Sentence[idx])\n",
    "        target = self.targets[idx]\n",
    "        \n",
    "        \n",
    "        encoder = self.tokenizer.encode_plus(\n",
    "            Sentence,\n",
    "            max_length=self.max_len,\n",
    "            padding='max_length',\n",
    "            truncation=True,\n",
    "            return_attention_mask=True,\n",
    "            add_special_tokens=True,\n",
    "            return_token_type_ids=False,\n",
    "            return_tensors='pt',\n",
    "            )\n",
    "        \n",
    "        return {\n",
    "            \"Sentence\":Sentence,\n",
    "            \"input_ids\":encoder['input_ids'].flatten(),\n",
    "            \"attention_mask\":encoder['attention_mask'].flatten(),\n",
    "            \"targets\":torch.tensor(target,dtype=torch.long),\n",
    "            }\n",
    "    \n",
    "\n",
    "\n",
    "\n",
    "from sklearn.model_selection import train_test_split\n",
    "\n",
    "df_train,df_test = train_test_split(df,test_size=.20,random_state=42)\n",
    "df_val,df_test = train_test_split(df_test,test_size=.40,random_state=42)\n",
    "\n",
    "BATCH_SIZE = 16\n",
    "\n",
    "def get_dataloader(df,max_len,tokenizer,batch_size):\n",
    "    ds = Finance_Dataset(\n",
    "    Sentence = df['Sentence'].to_numpy(),\n",
    "    targets = df['Sentiment'].to_numpy(),\n",
    "    max_len=max_len,\n",
    "    tokenizer=tokenizer\n",
    "    )\n",
    "    return DataLoader(\n",
    "        ds,\n",
    "        batch_size=batch_size,\n",
    "        num_workers=0\n",
    "        )\n",
    "\n",
    "\n",
    "train_dataloader = get_dataloader(df_train, max_len=MAX_LEN, tokenizer=tokenizer, batch_size=BATCH_SIZE)\n",
    "test_dataloader = get_dataloader(df_test,max_len=MAX_LEN,tokenizer=tokenizer,batch_size=BATCH_SIZE)\n",
    "val_dataloader = get_dataloader(df_val, max_len=MAX_LEN, tokenizer=tokenizer, batch_size=BATCH_SIZE)\n",
    "\n",
    "data = next(iter(train_dataloader))\n",
    "print(data.keys())"
   ]
  },
  {
   "cell_type": "code",
   "execution_count": 8,
   "id": "34888970-2009-4572-a0b6-443a5eb49fd3",
   "metadata": {},
   "outputs": [
    {
     "name": "stdout",
     "output_type": "stream",
     "text": [
      "torch.Size([16, 140])\n",
      "torch.Size([16, 140])\n",
      "torch.Size([16])\n"
     ]
    }
   ],
   "source": [
    "print(data['input_ids'].shape)\n",
    "print(data['attention_mask'].shape)\n",
    "print(data['targets'].shape)"
   ]
  },
  {
   "cell_type": "code",
   "execution_count": 9,
   "id": "a2687979-bfb6-49eb-910f-6e7fc1217638",
   "metadata": {},
   "outputs": [
    {
     "data": {
      "text/plain": [
       "Bert_Classifier(\n",
       "  (bert): BertModel(\n",
       "    (embeddings): BertEmbeddings(\n",
       "      (word_embeddings): Embedding(28996, 768, padding_idx=0)\n",
       "      (position_embeddings): Embedding(512, 768)\n",
       "      (token_type_embeddings): Embedding(2, 768)\n",
       "      (LayerNorm): LayerNorm((768,), eps=1e-12, elementwise_affine=True)\n",
       "      (dropout): Dropout(p=0.1, inplace=False)\n",
       "    )\n",
       "    (encoder): BertEncoder(\n",
       "      (layer): ModuleList(\n",
       "        (0-11): 12 x BertLayer(\n",
       "          (attention): BertAttention(\n",
       "            (self): BertSdpaSelfAttention(\n",
       "              (query): Linear(in_features=768, out_features=768, bias=True)\n",
       "              (key): Linear(in_features=768, out_features=768, bias=True)\n",
       "              (value): Linear(in_features=768, out_features=768, bias=True)\n",
       "              (dropout): Dropout(p=0.1, inplace=False)\n",
       "            )\n",
       "            (output): BertSelfOutput(\n",
       "              (dense): Linear(in_features=768, out_features=768, bias=True)\n",
       "              (LayerNorm): LayerNorm((768,), eps=1e-12, elementwise_affine=True)\n",
       "              (dropout): Dropout(p=0.1, inplace=False)\n",
       "            )\n",
       "          )\n",
       "          (intermediate): BertIntermediate(\n",
       "            (dense): Linear(in_features=768, out_features=3072, bias=True)\n",
       "            (intermediate_act_fn): GELUActivation()\n",
       "          )\n",
       "          (output): BertOutput(\n",
       "            (dense): Linear(in_features=3072, out_features=768, bias=True)\n",
       "            (LayerNorm): LayerNorm((768,), eps=1e-12, elementwise_affine=True)\n",
       "            (dropout): Dropout(p=0.1, inplace=False)\n",
       "          )\n",
       "        )\n",
       "      )\n",
       "    )\n",
       "    (pooler): BertPooler(\n",
       "      (dense): Linear(in_features=768, out_features=768, bias=True)\n",
       "      (activation): Tanh()\n",
       "    )\n",
       "  )\n",
       "  (drop): Dropout(p=0.1, inplace=False)\n",
       "  (out): Linear(in_features=768, out_features=3, bias=True)\n",
       ")"
      ]
     },
     "execution_count": 9,
     "metadata": {},
     "output_type": "execute_result"
    }
   ],
   "source": [
    "\n",
    "attention_mask = data['attention_mask']\n",
    "input_ids = data['input_ids']\n",
    "\n",
    "\n",
    "model = BertModel.from_pretrained(MODEL_NAME)\n",
    "\n",
    "\n",
    "### nn for Bert Transformer for text classification\n",
    "\n",
    "class Bert_Classifier(nn.Module):\n",
    "    def __init__(self, n_classes=3):\n",
    "        super(Bert_Classifier,self).__init__()\n",
    "        self.bert = BertModel.from_pretrained(MODEL_NAME)\n",
    "        self.drop = nn.Dropout(p=0.1)\n",
    "        self.out = nn.Linear(768,3)\n",
    "    \n",
    "\n",
    "    def forward(self, input_ids, attention_mask):\n",
    "        outputs = self.bert(\n",
    "        input_ids=input_ids,\n",
    "        attention_mask=attention_mask\n",
    "    )\n",
    "        pooled_output = outputs.pooler_output\n",
    "        output = self.drop(pooled_output)\n",
    "        return self.out(output)\n",
    "\n",
    "\n",
    "\n",
    "model = Bert_Classifier(3).to(device)\n",
    "model                             "
   ]
  },
  {
   "cell_type": "code",
   "execution_count": 10,
   "id": "5069f65a-e682-4d9a-9f6c-abc909b2df0b",
   "metadata": {},
   "outputs": [],
   "source": [
    "\n",
    "optimizer = torch.optim.AdamW(params = model.parameters(), lr=1e-5)\n",
    "loss_fn = nn.CrossEntropyLoss().to(device)\n",
    "EPOCHS = 3\n",
    "total_steps = len(train_dataloader) * EPOCHS\n",
    "scheduler = get_linear_schedule_with_warmup(optimizer, num_warmup_steps=0, num_training_steps=total_steps)\n"
   ]
  },
  {
   "cell_type": "code",
   "execution_count": 11,
   "id": "f575c08c-881c-4723-bb79-78f734aa0e62",
   "metadata": {},
   "outputs": [],
   "source": [
    "\n",
    "def training_epoch(model,dataloader,loss_fn,optimizer,device,scheduler,n_examples):\n",
    "    model.train()\n",
    "    losses = []\n",
    "    predictions = 0\n",
    "    for d in dataloader:\n",
    "        input_ids = d['input_ids'].to(device)\n",
    "        attention_mask = d['attention_mask'].to(device)\n",
    "        targets = d['targets'].to(device)\n",
    "        \n",
    "        outputs = model(\n",
    "            attention_mask=attention_mask,\n",
    "            input_ids=input_ids\n",
    "            )\n",
    "        _,preds = torch.max(outputs,dim=1)\n",
    "        loss = loss_fn(outputs,targets)\n",
    "        predictions += torch.sum(preds == targets)\n",
    "        losses.append(loss.item())\n",
    "\n",
    "        optimizer.zero_grad()\n",
    "        loss.backward()\n",
    "        optimizer.step()\n",
    "        \n",
    "    return (predictions.double() / n_examples,np.mean(losses))\n",
    "\n",
    "\n",
    "\n",
    "\n",
    "def eval_model(model,dataloader,loss_fn,device,n_examples):\n",
    "    model = model.eval()\n",
    "    losses = []\n",
    "    predictions = 0\n",
    "    \n",
    "    \n",
    "    with torch.no_grad():\n",
    "        for d in dataloader:\n",
    "            input_ids = d['input_ids'].to(device)\n",
    "            attention_mask = d['attention_mask'].to(device)\n",
    "            targets = d['targets'].to(device)\n",
    "            \n",
    "            outputs = model(\n",
    "                attention_mask=attention_mask,\n",
    "                input_ids=input_ids\n",
    "                )\n",
    "            \n",
    "            _,preds = torch.max(outputs,dim=1)\n",
    "            loss = loss_fn(outputs,targets)\n",
    "            \n",
    "            predictions += torch.sum(preds == targets)\n",
    "            losses.append(loss.item())\n",
    "            \n",
    "        return (predictions.double() / n_examples,np.mean(losses))"
   ]
  },
  {
   "cell_type": "code",
   "execution_count": 12,
   "id": "93510fd7-3ce8-43fb-ab22-0ff5d57f7bfe",
   "metadata": {},
   "outputs": [
    {
     "name": "stdout",
     "output_type": "stream",
     "text": [
      "Epoch 1/ 3\n",
      "Train accuracy 0.6773778920308484 --train loss-- 0.7032401939879541\n",
      "Val accuracy 0.7985714285714286 val loss 0.43994066694920714\n",
      "Epoch 2/ 3\n",
      "Train accuracy 0.8157669237360754 --train loss-- 0.4088990642906052\n",
      "Val accuracy 0.8057142857142857 val loss 0.40701135332611477\n",
      "Epoch 3/ 3\n",
      "Train accuracy 0.8590402742073694 --train loss-- 0.296154219631667\n",
      "Val accuracy 0.8028571428571428 val loss 0.42974977322261443\n",
      "Testing Accuracy : 78.21%\n"
     ]
    }
   ],
   "source": [
    "history = defaultdict(list)\n",
    "best_accuracy = 0\n",
    "\n",
    "for epoch in range(EPOCHS):\n",
    "    print(f'Epoch {epoch + 1}/ {EPOCHS}')\n",
    "    train_acc, train_loss = training_epoch(model, train_dataloader, loss_fn, optimizer, device, scheduler, len(df_train))\n",
    "    print(f'Train accuracy {train_acc} --train loss-- {train_loss}')\n",
    "\n",
    "    val_acc, val_loss = eval_model(model,val_dataloader,loss_fn,device,len(df_val))\n",
    "    print(f'Val accuracy {val_acc} val loss {val_loss}')\n",
    "\n",
    "    history['train_acc'].append(train_acc)\n",
    "    history['train_loss'].append(train_loss)\n",
    "    history['val_acc'].append(val_acc)\n",
    "    history['val_loss'].append(val_loss)\n",
    "  \n",
    "\n",
    "\n",
    "\n",
    "test_acc, _ = eval_model(\n",
    "  model,\n",
    "  test_dataloader,\n",
    "  loss_fn,\n",
    "  device,\n",
    "  len(df_test)\n",
    ")\n",
    "\n",
    "print(f'Testing Accuracy : {test_acc.item() *100 :.2f}%')"
   ]
  },
  {
   "cell_type": "code",
   "execution_count": 14,
   "id": "14fc569b-8d19-4ca9-b92e-9fb5a64b7716",
   "metadata": {},
   "outputs": [
    {
     "name": "stdout",
     "output_type": "stream",
     "text": [
      "Classification Report:               precision    recall  f1-score   support\n",
      "\n",
      "           0       0.47      0.43      0.45        60\n",
      "           1       0.83      0.84      0.84       276\n",
      "           2       0.82      0.81      0.81       132\n",
      "\n",
      "    accuracy                           0.78       468\n",
      "   macro avg       0.71      0.70      0.70       468\n",
      "weighted avg       0.78      0.78      0.78       468\n",
      "\n",
      " --Accuracy Score-- 78.21\n"
     ]
    }
   ],
   "source": [
    "from sklearn.metrics import accuracy_score,classification_report,confusion_matrix\n",
    "\n",
    "\n",
    "def get_predictions(model, dataloader, device):\n",
    "    model.eval()\n",
    "    all_preds = []\n",
    "    all_labels = []\n",
    "    \n",
    "    with torch.no_grad():\n",
    "        for d in dataloader:\n",
    "            input_ids = d['input_ids'].to(device)\n",
    "            attention_mask = d['attention_mask'].to(device)\n",
    "            targets = d['targets'].to(device)\n",
    "            \n",
    "            outputs = model(\n",
    "                attention_mask=attention_mask,\n",
    "                input_ids=input_ids\n",
    "            )\n",
    "            \n",
    "            _, preds = torch.max(outputs, dim=1)\n",
    "            \n",
    "            all_preds.extend(preds.cpu().numpy())\n",
    "            all_labels.extend(targets.cpu().numpy())\n",
    "    \n",
    "    return all_labels, all_preds\n",
    "\n",
    "\n",
    "\n",
    "\n",
    "\n",
    "true_labels, predicted_labels = get_predictions(model, test_dataloader, device)\n",
    "\n",
    "clf_rpt = classification_report(true_labels,predicted_labels)\n",
    "print(f'Classification Report: {clf_rpt}')\n",
    "\n",
    "acc = accuracy_score(true_labels,predicted_labels)\n",
    "print(f' --Accuracy Score-- {acc*100:.2f}')"
   ]
  },
  {
   "cell_type": "code",
   "execution_count": 15,
   "id": "8ec3f10c-48f2-4973-896e-f4d71f390e79",
   "metadata": {},
   "outputs": [
    {
     "data": {
      "image/png": "[encoded data removed]",
      "text/plain": [
       "<Figure size 640x480 with 2 Axes>"
      ]
     },
     "metadata": {},
     "output_type": "display_data"
    }
   ],
   "source": [
    "def plot_confusion_matrix(true_labels, predicted_labels):\n",
    "    cm = confusion_matrix(true_labels, predicted_labels)\n",
    "    sns.heatmap(cm, annot=True, fmt=\"d\", cmap=\"coolwarm\", xticklabels=[\"Negative\", \"Neutral\", \"Positive\"], yticklabels=[\"Negative\", \"Neutral\", \"Positive\"])\n",
    "    plt.title(\"Confusion Matrix\")\n",
    "    plt.xlabel(\"Predicted Label\")\n",
    "    plt.ylabel(\"True Label\")\n",
    "    plt.show()\n",
    "\n",
    "\n",
    "plot_confusion_matrix(true_labels, predicted_labels)"
   ]
  },
  {
   "cell_type": "code",
   "execution_count": null,
   "id": "b06c769a-0f9e-4ffd-a28e-88cbd6c8da88",
   "metadata": {},
   "outputs": [],
   "source": []
  }
 ],
 "metadata": {
  "kernelspec": {
   "display_name": "Python 3 (ipykernel)",
   "language": "python",
   "name": "python3"
  },
  "language_info": {
   "codemirror_mode": {
    "name": "ipython",
    "version": 3
   },
   "file_extension": ".py",
   "mimetype": "text/x-python",
   "name": "python",
   "nbconvert_exporter": "python",
   "pygments_lexer": "ipython3",
   "version": "3.11.9"
  }
 },
 "nbformat": 4,
 "nbformat_minor": 5
}
