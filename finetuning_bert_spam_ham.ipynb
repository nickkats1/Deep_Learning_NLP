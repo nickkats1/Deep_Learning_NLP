{
 "cells": [
  {
   "cell_type": "code",
   "execution_count": 1,
   "id": "be256359-62cb-4680-8854-0e48d9e6a24b",
   "metadata": {},
   "outputs": [
    {
     "name": "stdout",
     "output_type": "stream",
     "text": [
      "cuda:0\n"
     ]
    }
   ],
   "source": [
    "import pandas as pd\n",
    "import matplotlib.pyplot as plt\n",
    "import seaborn as sns\n",
    "import torch\n",
    "import torch.nn as nn\n",
    "from transformers import BertModel,BertTokenizer,get_linear_schedule_with_warmup\n",
    "from torch.utils.data import DataLoader,Dataset\n",
    "import numpy as np\n",
    "import warnings\n",
    "warnings.filterwarnings(\"ignore\")\n",
    "\n",
    "\n",
    "device = \"cuda:0\" if torch.cuda.is_available() else \"cpu\"\n",
    "print(device)\n"
   ]
  },
  {
   "cell_type": "code",
   "execution_count": 2,
   "id": "f6ebc183-2142-4a1b-94c4-447c15d376a6",
   "metadata": {},
   "outputs": [
    {
     "name": "stdout",
     "output_type": "stream",
     "text": [
      "Class      0\n",
      "Message    0\n",
      "dtype: int64\n"
     ]
    },
    {
     "data": {
      "text/html": [
       "<div>\n",
       "<style scoped>\n",
       "    .dataframe tbody tr th:only-of-type {\n",
       "        vertical-align: middle;\n",
       "    }\n",
       "\n",
       "    .dataframe tbody tr th {\n",
       "        vertical-align: top;\n",
       "    }\n",
       "\n",
       "    .dataframe thead th {\n",
       "        text-align: right;\n",
       "    }\n",
       "</style>\n",
       "<table border=\"1\" class=\"dataframe\">\n",
       "  <thead>\n",
       "    <tr style=\"text-align: right;\">\n",
       "      <th></th>\n",
       "      <th>Class</th>\n",
       "      <th>Message</th>\n",
       "    </tr>\n",
       "  </thead>\n",
       "  <tbody>\n",
       "    <tr>\n",
       "      <th>0</th>\n",
       "      <td>ham</td>\n",
       "      <td>Go until jurong point, crazy.. Available only ...</td>\n",
       "    </tr>\n",
       "    <tr>\n",
       "      <th>1</th>\n",
       "      <td>ham</td>\n",
       "      <td>Ok lar... Joking wif u oni...</td>\n",
       "    </tr>\n",
       "    <tr>\n",
       "      <th>2</th>\n",
       "      <td>spam</td>\n",
       "      <td>Free entry in 2 a wkly comp to win FA Cup fina...</td>\n",
       "    </tr>\n",
       "    <tr>\n",
       "      <th>3</th>\n",
       "      <td>ham</td>\n",
       "      <td>U dun say so early hor... U c already then say...</td>\n",
       "    </tr>\n",
       "    <tr>\n",
       "      <th>4</th>\n",
       "      <td>ham</td>\n",
       "      <td>Nah I don't think he goes to usf, he lives aro...</td>\n",
       "    </tr>\n",
       "    <tr>\n",
       "      <th>5</th>\n",
       "      <td>spam</td>\n",
       "      <td>FreeMsg Hey there darling it's been 3 week's n...</td>\n",
       "    </tr>\n",
       "    <tr>\n",
       "      <th>6</th>\n",
       "      <td>ham</td>\n",
       "      <td>Even my brother is not like to speak with me. ...</td>\n",
       "    </tr>\n",
       "    <tr>\n",
       "      <th>7</th>\n",
       "      <td>ham</td>\n",
       "      <td>As per your request 'Melle Melle (Oru Minnamin...</td>\n",
       "    </tr>\n",
       "    <tr>\n",
       "      <th>8</th>\n",
       "      <td>spam</td>\n",
       "      <td>WINNER!! As a valued network customer you have...</td>\n",
       "    </tr>\n",
       "    <tr>\n",
       "      <th>9</th>\n",
       "      <td>spam</td>\n",
       "      <td>Had your mobile 11 months or more? U R entitle...</td>\n",
       "    </tr>\n",
       "  </tbody>\n",
       "</table>\n",
       "</div>"
      ],
      "text/plain": [
       "  Class                                            Message\n",
       "0   ham  Go until jurong point, crazy.. Available only ...\n",
       "1   ham                      Ok lar... Joking wif u oni...\n",
       "2  spam  Free entry in 2 a wkly comp to win FA Cup fina...\n",
       "3   ham  U dun say so early hor... U c already then say...\n",
       "4   ham  Nah I don't think he goes to usf, he lives aro...\n",
       "5  spam  FreeMsg Hey there darling it's been 3 week's n...\n",
       "6   ham  Even my brother is not like to speak with me. ...\n",
       "7   ham  As per your request 'Melle Melle (Oru Minnamin...\n",
       "8  spam  WINNER!! As a valued network customer you have...\n",
       "9  spam  Had your mobile 11 months or more? U R entitle..."
      ]
     },
     "execution_count": 2,
     "metadata": {},
     "output_type": "execute_result"
    }
   ],
   "source": [
    "df = pd.read_csv(\"C:/nlp/data/Spam_SMS.csv\",delimiter=',')\n",
    "print(df.isna().sum())\n",
    "df.head(10)"
   ]
  },
  {
   "cell_type": "code",
   "execution_count": 3,
   "id": "99633294-8a9e-41ed-b4da-c227b40b2956",
   "metadata": {},
   "outputs": [
    {
     "data": {
      "image/png": "[encoded data removed]",
      "text/plain": [
       "<Figure size 1000x600 with 1 Axes>"
      ]
     },
     "metadata": {},
     "output_type": "display_data"
    }
   ],
   "source": [
    "df.duplicated().sum()\n",
    "df.drop_duplicates(inplace=True)\n",
    "\n",
    "\n",
    "plt.figure(figsize=(10,6))\n",
    "df['Class'].value_counts().plot(kind='pie',autopct=\"%1.1f%%\")\n",
    "plt.show()"
   ]
  },
  {
   "cell_type": "code",
   "execution_count": 4,
   "id": "943fea0c-18b7-4819-8ba1-a26898bbb54b",
   "metadata": {},
   "outputs": [
    {
     "data": {
      "text/plain": [
       "('[SEP]', 102)"
      ]
     },
     "execution_count": 4,
     "metadata": {},
     "output_type": "execute_result"
    }
   ],
   "source": [
    "df['Class'] = [1 if X == \"ham\" else 0 for X in df['Class']]\n",
    "df['Class'].value_counts()\n",
    "\n",
    "\n",
    "df['Message'] = df['Message'].str.lower()\n",
    "\n",
    "\n",
    "MODEL_NAME = 'bert-base-cased'\n",
    "tokenizer = BertTokenizer.from_pretrained(MODEL_NAME, do_lower_case=True)\n",
    "\n",
    "tokenizer.sep_token,tokenizer.sep_token_ids"
   ]
  },
  {
   "cell_type": "code",
   "execution_count": 5,
   "id": "c1d89fd8-82ab-46fc-95de-5b160e16ccb0",
   "metadata": {},
   "outputs": [
    {
     "data": {
      "text/plain": [
       "('[CLS]', 101)"
      ]
     },
     "execution_count": 5,
     "metadata": {},
     "output_type": "execute_result"
    }
   ],
   "source": [
    "tokenizer.cls_token,tokenizer.cls_token_ids"
   ]
  },
  {
   "cell_type": "code",
   "execution_count": 6,
   "id": "3ffa2850-ec75-4db1-a583-ec23a4c5290d",
   "metadata": {},
   "outputs": [
    {
     "name": "stderr",
     "output_type": "stream",
     "text": [
      "Truncation was not explicitly activated but `max_length` is provided a specific value, please use `truncation=True` to explicitly truncate examples to max length. Defaulting to 'longest_first' truncation strategy. If you encode pairs of sequences (GLUE-style) with the tokenizer you can select this strategy more precisely by providing a specific strategy to `truncation`.\n"
     ]
    },
    {
     "data": {
      "image/png": "[encoded data removed]",
      "text/plain": [
       "<Figure size 1000x500 with 1 Axes>"
      ]
     },
     "metadata": {},
     "output_type": "display_data"
    }
   ],
   "source": [
    "\n",
    "\n",
    "\n",
    "sample_tokens = []\n",
    "for txt in df['Message']:\n",
    "    tokens = tokenizer.encode(txt, max_length=512)\n",
    "    sample_tokens.append(len(tokens))\n",
    "\n",
    "\n",
    "\n",
    "plt.figure(figsize=(10,5))\n",
    "sns.distplot(sample_tokens)\n",
    "plt.show()"
   ]
  },
  {
   "cell_type": "code",
   "execution_count": 7,
   "id": "0bd78e14-de83-44ac-8fb0-59ffc786ec0c",
   "metadata": {},
   "outputs": [
    {
     "name": "stdout",
     "output_type": "stream",
     "text": [
      "dict_keys(['Message', 'input_ids', 'attention_mask', 'targets'])\n",
      "torch.Size([12, 128])\n",
      "torch.Size([12, 128])\n",
      "torch.Size([12])\n"
     ]
    }
   ],
   "source": [
    "max_length = 128\n",
    "\n",
    "class SPAM_Dataset(Dataset):\n",
    "    def __init__(self,Message,targets,max_len,tokenizer):\n",
    "        self.Message = Message\n",
    "        self.targets = targets\n",
    "        self.max_len = max_len\n",
    "        self.tokenizer = tokenizer\n",
    "        \n",
    "        \n",
    "        \n",
    "    def __len__(self):\n",
    "        return len(self.Message)\n",
    "    \n",
    "    \n",
    "    def __getitem__(self,idx):\n",
    "        Message = str(self.Message[idx])\n",
    "        target = self.targets[idx]\n",
    "\n",
    "\n",
    "        encoder = self.tokenizer.encode_plus(\n",
    "        Message,\n",
    "        max_length=self.max_len,\n",
    "        padding='max_length',\n",
    "        truncation=True,\n",
    "        add_special_tokens=True,\n",
    "        return_attention_mask=True,\n",
    "        return_token_type_ids=False,\n",
    "        return_tensors='pt',\n",
    "        )\n",
    "    \n",
    "        return {\n",
    "        \"Message\":Message,\n",
    "        \"input_ids\":encoder['input_ids'].flatten(),\n",
    "        \"attention_mask\":encoder['attention_mask'].flatten(),\n",
    "        \"targets\":torch.tensor(target,dtype=torch.long)\n",
    "        }\n",
    "\n",
    "\n",
    "\n",
    "from sklearn.model_selection import train_test_split\n",
    "df_train,df_test = train_test_split(df,test_size=.10,random_state=42)\n",
    "df_val,df_test = train_test_split(df_test, test_size=.50,random_state=42)\n",
    "\n",
    "\n",
    "\n",
    "def get_dataloader(df,max_len,tokenizer,batch_size):\n",
    "    ds = SPAM_Dataset(\n",
    "        Message = df['Message'].to_numpy(),\n",
    "        targets = df['Class'].to_numpy(),\n",
    "        max_len=max_len,\n",
    "        tokenizer=tokenizer,\n",
    "        )\n",
    "    return DataLoader(\n",
    "        ds,\n",
    "        num_workers=0,\n",
    "        batch_size=batch_size\n",
    "        )\n",
    "\n",
    "\n",
    "BATCH_SIZE = 12\n",
    "\n",
    "train_dataloader = get_dataloader(df_train, max_len=max_length, tokenizer=tokenizer, batch_size=BATCH_SIZE)\n",
    "test_dataloader = get_dataloader(df_test, max_len=max_length, tokenizer=tokenizer, batch_size=BATCH_SIZE)\n",
    "val_dataloader = get_dataloader(df_val, max_len=max_length, tokenizer=tokenizer, batch_size=BATCH_SIZE)\n",
    "\n",
    "\n",
    "data = next(iter(train_dataloader))\n",
    "print(data.keys())\n",
    "print(data['input_ids'].shape)\n",
    "print(data['attention_mask'].shape)\n",
    "print(data['targets'].shape)"
   ]
  },
  {
   "cell_type": "code",
   "execution_count": 8,
   "id": "dfdd0616-190d-45ba-8d04-3047718956b7",
   "metadata": {},
   "outputs": [
    {
     "data": {
      "text/plain": [
       "Bert_Classifier(\n",
       "  (bert): BertModel(\n",
       "    (embeddings): BertEmbeddings(\n",
       "      (word_embeddings): Embedding(28996, 768, padding_idx=0)\n",
       "      (position_embeddings): Embedding(512, 768)\n",
       "      (token_type_embeddings): Embedding(2, 768)\n",
       "      (LayerNorm): LayerNorm((768,), eps=1e-12, elementwise_affine=True)\n",
       "      (dropout): Dropout(p=0.1, inplace=False)\n",
       "    )\n",
       "    (encoder): BertEncoder(\n",
       "      (layer): ModuleList(\n",
       "        (0-11): 12 x BertLayer(\n",
       "          (attention): BertAttention(\n",
       "            (self): BertSdpaSelfAttention(\n",
       "              (query): Linear(in_features=768, out_features=768, bias=True)\n",
       "              (key): Linear(in_features=768, out_features=768, bias=True)\n",
       "              (value): Linear(in_features=768, out_features=768, bias=True)\n",
       "              (dropout): Dropout(p=0.1, inplace=False)\n",
       "            )\n",
       "            (output): BertSelfOutput(\n",
       "              (dense): Linear(in_features=768, out_features=768, bias=True)\n",
       "              (LayerNorm): LayerNorm((768,), eps=1e-12, elementwise_affine=True)\n",
       "              (dropout): Dropout(p=0.1, inplace=False)\n",
       "            )\n",
       "          )\n",
       "          (intermediate): BertIntermediate(\n",
       "            (dense): Linear(in_features=768, out_features=3072, bias=True)\n",
       "            (intermediate_act_fn): GELUActivation()\n",
       "          )\n",
       "          (output): BertOutput(\n",
       "            (dense): Linear(in_features=3072, out_features=768, bias=True)\n",
       "            (LayerNorm): LayerNorm((768,), eps=1e-12, elementwise_affine=True)\n",
       "            (dropout): Dropout(p=0.1, inplace=False)\n",
       "          )\n",
       "        )\n",
       "      )\n",
       "    )\n",
       "    (pooler): BertPooler(\n",
       "      (dense): Linear(in_features=768, out_features=768, bias=True)\n",
       "      (activation): Tanh()\n",
       "    )\n",
       "  )\n",
       "  (drop): Dropout(p=0.1, inplace=False)\n",
       "  (out): Linear(in_features=768, out_features=2, bias=True)\n",
       ")"
      ]
     },
     "execution_count": 8,
     "metadata": {},
     "output_type": "execute_result"
    }
   ],
   "source": [
    "input_ids = data['input_ids'].to(device)\n",
    "attention_mask = data['attention_mask'].to(device)\n",
    "\n",
    "\n",
    "bert_model = BertModel.from_pretrained(MODEL_NAME)\n",
    "\n",
    "\n",
    "\n",
    "\n",
    "\n",
    "\n",
    "\n",
    "class Bert_Classifier(nn.Module):\n",
    "    def __init__(self, n_classes=2):\n",
    "        super(Bert_Classifier,self).__init__()\n",
    "        self.bert = BertModel.from_pretrained(MODEL_NAME)\n",
    "        self.drop = nn.Dropout(p=0.1)\n",
    "        self.out = nn.Linear(768,2)\n",
    "    \n",
    "\n",
    "    def forward(self, input_ids, attention_mask):\n",
    "        outputs = self.bert(\n",
    "        input_ids=input_ids,\n",
    "        attention_mask=attention_mask\n",
    "    )\n",
    "        pooled_output = outputs.pooler_output\n",
    "        output = self.drop(pooled_output)\n",
    "        return self.out(output)\n",
    "\n",
    "\n",
    "\n",
    "model = Bert_Classifier(2)\n",
    "model.to(device)\n",
    "model"
   ]
  },
  {
   "cell_type": "code",
   "execution_count": 9,
   "id": "db71f47b-92f8-478b-9ac2-ad1e553f811e",
   "metadata": {},
   "outputs": [
    {
     "name": "stdout",
     "output_type": "stream",
     "text": [
      "1/3\n",
      " Training accuracy 97.33%; -Val Accuracy-- 99.61%\n",
      "training loss 9.28%; --val loss-- 1.85%\n",
      "2/3\n",
      " Training accuracy 99.35%; -Val Accuracy-- 98.84%\n",
      "training loss 2.37%; --val loss-- 2.39%\n",
      "3/3\n",
      " Training accuracy 99.68%; -Val Accuracy-- 98.84%\n",
      "training loss 1.23%; --val loss-- 2.01%\n"
     ]
    }
   ],
   "source": [
    "# same old\n",
    "\n",
    "optimizer = torch.optim.AdamW(model.parameters(), lr=1e-5)\n",
    "loss_fn = nn.CrossEntropyLoss()\n",
    "num_epochs = 3\n",
    "total_steps = len(train_dataloader) * num_epochs\n",
    "scheduler = get_linear_schedule_with_warmup(optimizer, num_warmup_steps=0, num_training_steps=total_steps)\n",
    "\n",
    "\n",
    "\n",
    "\n",
    "def training_epoch(model,dataloader,loss_fn,optimizer,device,scheduler,n_examples):\n",
    "    model.train()\n",
    "    losses = []\n",
    "    predictions = 0\n",
    "    for d in dataloader:\n",
    "        input_ids = d['input_ids'].to(device)\n",
    "        attention_mask = d['attention_mask'].to(device)\n",
    "        targets = d['targets'].to(device)\n",
    "        \n",
    "        outputs = model(\n",
    "            attention_mask=attention_mask,\n",
    "            input_ids=input_ids\n",
    "            )\n",
    "        _,preds = torch.max(outputs,dim=1)\n",
    "        loss = loss_fn(outputs,targets)\n",
    "        predictions += torch.sum(preds == targets)\n",
    "        losses.append(loss.item())\n",
    "        \n",
    "        optimizer.zero_grad()\n",
    "        loss.backward()\n",
    "        optimizer.step()\n",
    "        \n",
    "    return (predictions.double() / n_examples,np.mean(losses))\n",
    "\n",
    "\n",
    "\n",
    "\n",
    "def eval_model(model,dataloader,loss_fn,device,n_examples):\n",
    "    model = model.eval()\n",
    "    losses = []\n",
    "    predictions = 0\n",
    "    \n",
    "    \n",
    "    with torch.no_grad():\n",
    "        for d in dataloader:\n",
    "            input_ids = d['input_ids'].to(device)\n",
    "            attention_mask = d['attention_mask'].to(device)\n",
    "            targets = d['targets'].to(device)\n",
    "            \n",
    "            outputs = model(\n",
    "                attention_mask=attention_mask,\n",
    "                input_ids=input_ids\n",
    "                )\n",
    "            \n",
    "            _,preds = torch.max(outputs,dim=1)\n",
    "            loss = loss_fn(outputs,targets)\n",
    "            \n",
    "            predictions += torch.sum(preds == targets)\n",
    "            losses.append(loss.item())\n",
    "            \n",
    "        return (predictions.double() / n_examples,np.mean(losses))\n",
    "\n",
    "\n",
    "\n",
    "\n",
    "\n",
    "\n",
    "for epoch in range(num_epochs):\n",
    "    print(f'{epoch+1}/{num_epochs}')\n",
    "    \n",
    "    train_acc, train_loss = training_epoch(\n",
    "        model,\n",
    "        train_dataloader,\n",
    "        loss_fn,\n",
    "        optimizer,\n",
    "        device,\n",
    "        scheduler,\n",
    "        len(df_train)\n",
    "    )\n",
    "    \n",
    "    val_acc, val_loss = eval_model(\n",
    "    model,\n",
    "    val_dataloader,\n",
    "    loss_fn,\n",
    "    device,\n",
    "    len(df_val)\n",
    ")\n",
    "    print(f\" Training accuracy {train_acc*100:.2f}%; -Val Accuracy-- {val_acc*100:.2f}%\")\n",
    "    print(f\"training loss {train_loss*100:.2f}%; --val loss-- {val_loss*100:.2f}%\")\n"
   ]
  },
  {
   "cell_type": "code",
   "execution_count": 13,
   "id": "fb2912f6-0b1b-4ac8-b44b-ea40ae509041",
   "metadata": {},
   "outputs": [
    {
     "name": "stdout",
     "output_type": "stream",
     "text": [
      "Testing Accuracy : 98.84%\n"
     ]
    }
   ],
   "source": [
    "test_acc, _ = eval_model(\n",
    "  model,\n",
    "  test_dataloader,\n",
    "  loss_fn,\n",
    "  device,\n",
    "  len(df_test)\n",
    ")\n",
    "\n",
    "print(f'Testing Accuracy : {test_acc.item() *100 :.2f}%')"
   ]
  },
  {
   "cell_type": "code",
   "execution_count": 14,
   "id": "3f1e2af8-f675-4815-a3b3-6d61e828dd80",
   "metadata": {},
   "outputs": [
    {
     "name": "stdout",
     "output_type": "stream",
     "text": [
      "Classification Report:               precision    recall  f1-score   support\n",
      "\n",
      "           0       0.95      0.91      0.93        22\n",
      "           1       0.99      1.00      0.99       236\n",
      "\n",
      "    accuracy                           0.99       258\n",
      "   macro avg       0.97      0.95      0.96       258\n",
      "weighted avg       0.99      0.99      0.99       258\n",
      "\n",
      " --Accuracy Score-- 98.84\n"
     ]
    }
   ],
   "source": [
    "## accuracy and classification report\n",
    "\n",
    "from sklearn.metrics import accuracy_score,classification_report,confusion_matrix\n",
    "\n",
    "\n",
    "def get_predictions(model, dataloader, device):\n",
    "    model.eval()\n",
    "    all_preds = []\n",
    "    all_labels = []\n",
    "\n",
    "    with torch.no_grad():\n",
    "        for d in dataloader:\n",
    "            input_ids = d['input_ids'].to(device)\n",
    "            attention_mask = d['attention_mask'].to(device)\n",
    "            targets = d['targets'].to(device)\n",
    "\n",
    "            outputs = model(\n",
    "                attention_mask=attention_mask,\n",
    "                input_ids=input_ids\n",
    "            )\n",
    "\n",
    "            _, preds = torch.max(outputs, dim=1)\n",
    "\n",
    "            all_preds.extend(preds.cpu().numpy())\n",
    "            all_labels.extend(targets.cpu().numpy())\n",
    "\n",
    "    return all_labels, all_preds\n",
    "\n",
    "\n",
    "\n",
    "\n",
    "\n",
    "true_labels, predicted_labels = get_predictions(model, test_dataloader, device)\n",
    "\n",
    "clf_rpt = classification_report(true_labels,predicted_labels)\n",
    "print(f'Classification Report: {clf_rpt}')\n",
    "\n",
    "acc = accuracy_score(true_labels,predicted_labels)\n",
    "print(f' --Accuracy Score-- {acc*100:.2f}')"
   ]
  },
  {
   "cell_type": "code",
   "execution_count": 12,
   "id": "f0730785-dede-4528-9c82-baffda8508c0",
   "metadata": {},
   "outputs": [
    {
     "data": {
      "image/png": "[encoded data removed]",
      "text/plain": [
       "<Figure size 640x480 with 2 Axes>"
      ]
     },
     "metadata": {},
     "output_type": "display_data"
    }
   ],
   "source": [
    "def plot_confusion_matrix(true_labels, predicted_labels):\n",
    "    cm = confusion_matrix(true_labels, predicted_labels)\n",
    "    sns.heatmap(cm, annot=True, fmt=\"d\", cmap=\"viridis\", xticklabels=[\"Spam\",\"Ham\"], yticklabels=[\"Spam\",\"Ham\"])\n",
    "    plt.title(\"Confusion Matrix\")\n",
    "    plt.xlabel(\"Predicted Label\")\n",
    "    plt.ylabel(\"True Label\")\n",
    "    plt.show()\n",
    "\n",
    "\n",
    "plot_confusion_matrix(true_labels, predicted_labels)\n"
   ]
  }
 ],
 "metadata": {
  "kernelspec": {
   "display_name": "Python 3 (ipykernel)",
   "language": "python",
   "name": "python3"
  },
  "language_info": {
   "codemirror_mode": {
    "name": "ipython",
    "version": 3
   },
   "file_extension": ".py",
   "mimetype": "text/x-python",
   "name": "python",
   "nbconvert_exporter": "python",
   "pygments_lexer": "ipython3",
   "version": "3.11.9"
  }
 },
 "nbformat": 4,
 "nbformat_minor": 5
}
